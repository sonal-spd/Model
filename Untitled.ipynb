{
 "cells": [
  {
   "cell_type": "code",
   "execution_count": 27,
   "id": "3fa0b673",
   "metadata": {},
   "outputs": [
    {
     "data": {
      "image/png": "[encoded data removed]",
      "text/plain": [
       "<Figure size 432x288 with 1 Axes>"
      ]
     },
     "metadata": {
      "needs_background": "light"
     },
     "output_type": "display_data"
    },
    {
     "name": "stdout",
     "output_type": "stream",
     "text": [
      "Salary : [[4.05010445e+33]]\n",
      "Parameters [[2.17763720e+15]\n",
      " [1.46745191e+16]]\n",
      "(21, 2)\n",
      "(9, 2)\n",
      "(21, 1)\n",
      "(9, 1)\n",
      "The model performance for training set\n",
      "--------------------------------------\n",
      "Mean Squared Error: 36186401.902905576\n",
      "RMSE is 6015.513436349849\n",
      "R2 score is 0.9505319424191245\n",
      "\n",
      "\n",
      "The model performance for testing set\n",
      "--------------------------------------\n",
      "RMSE is 4659.779891488294\n",
      "R2 score is 0.9647278344670828\n"
     ]
    },
    {
     "data": {
      "image/png": "[encoded data removed]",
      "text/plain": [
       "<Figure size 432x288 with 1 Axes>"
      ]
     },
     "metadata": {
      "needs_background": "light"
     },
     "output_type": "display_data"
    }
   ],
   "source": [
    "#Libraries needed\n",
    "import numpy as np\n",
    "import matplotlib.pyplot as plt\n",
    "import pandas as pd\n",
    "from sklearn.linear_model import LinearRegression\n",
    "from sklearn.metrics import mean_squared_error, r2_score   #for accuracy\n",
    "from sklearn.model_selection import train_test_split\n",
    "\n",
    "def plot_data(x,y):\n",
    "    plt.xlabel(\"Experience (in years)\")\n",
    "    plt.ylabel(\"Salary\")\n",
    "    plt.title(\"Salary Vs Years Experience\")\n",
    "    plt.plot(x[:,0],y,'bo')\n",
    "    plt.show()\n",
    "    \n",
    "def hypothesis(x,theta):\n",
    "    return np.matmul(x,theta)\n",
    "\n",
    "def cost_func(x,y,theta):\n",
    "    return ((hypothesis(x,theta)-y).T@(hypothesis(x,theta)-y))//(2*y.shape[0])\n",
    "\n",
    "\n",
    "def gradient_descent(x,y,theta,learning_rate , iteration ):\n",
    "    m = x.shape[0]\n",
    "    J_all = []\n",
    "    \n",
    "    for _ in range(iteration):\n",
    "        h_x = hypothesis(x,theta)\n",
    "        cost = (1/m)*(x.T@(h_x-y))\n",
    "        theta = theta - learning_rate*cost\n",
    "        J_all.append(cost_func(x,y,theta))\n",
    "        \n",
    "        \n",
    "    return theta,J_all\n",
    "\n",
    "\n",
    "def load_data(filename):\n",
    "    df = pd.read_csv(filename,sep = ',',index_col = False)\n",
    "    df.columns = [\"YearsExperience\",\"Salary\"]\n",
    "    data = np.array(df , dtype = float)\n",
    "    plot_data(data[:,:],data[:,-1])\n",
    "    return data[:,:1],data[:,-1]\n",
    "\n",
    "\n",
    "x,y = load_data(\"salary_data.csv\")\n",
    "\n",
    "learning_rate = 0.2\n",
    "iteration = 15\n",
    "y  = np.reshape(y,(30,1))\n",
    "x = np.hstack((np.ones((x.shape[0],1)),x))\n",
    "theta = np.zeros((x.shape[1],1))\n",
    "\n",
    "\n",
    "theta,J_all = gradient_descent(x,y,theta,learning_rate, iteration)\n",
    "\n",
    "J = cost_func(x,y,theta)\n",
    "\n",
    "print(\"Salary :\",J)\n",
    "print(\"Parameters\",theta)\n",
    "\n",
    "x_train, x_test, y_train, y_test = train_test_split(x, y, train_size = 0.7, random_state=10)\n",
    "print(x_train.shape)\n",
    "print(x_test.shape)\n",
    "print(y_train.shape)\n",
    "print(y_test.shape)\n",
    "\n",
    "lin_model = LinearRegression()\n",
    "lin_model.fit(x_train, y_train)\n",
    "\n",
    "y_train_predict = lin_model.predict(x_train)\n",
    "rmse = (np.sqrt(mean_squared_error(y_train, y_train_predict)))\n",
    "r2 = r2_score(y_train, y_train_predict)\n",
    "\n",
    "print(\"The model performance for training set\")\n",
    "print(\"--------------------------------------\")\n",
    "print('Mean Squared Error:',mean_squared_error(y_train,y_train_predict))\n",
    "print('RMSE is {}'.format(rmse))\n",
    "print('R2 score is {}'.format(r2))\n",
    "print(\"\\n\")\n",
    "\n",
    "\n",
    "y_test_predict = lin_model.predict(x_test)\n",
    "rmse = (np.sqrt(mean_squared_error(y_test, y_test_predict)))\n",
    "r2 = r2_score(y_test, y_test_predict)\n",
    "\n",
    "print(\"The model performance for testing set\")\n",
    "print(\"--------------------------------------\")\n",
    "print('RMSE is {}'.format(rmse))\n",
    "print('R2 score is {}'.format(r2))\n",
    "\n",
    "plt.scatter(y_test, y_test_predict)\n",
    "plt.show()\n"
   ]
  },
  {
   "cell_type": "code",
   "execution_count": null,
   "id": "17fd775c",
   "metadata": {},
   "outputs": [],
   "source": []
  }
 ],
 "metadata": {
  "kernelspec": {
   "display_name": "Python 3",
   "language": "python",
   "name": "python3"
  },
  "language_info": {
   "codemirror_mode": {
    "name": "ipython",
    "version": 3
   },
   "file_extension": ".py",
   "mimetype": "text/x-python",
   "name": "python",
   "nbconvert_exporter": "python",
   "pygments_lexer": "ipython3",
   "version": "3.8.5"
  }
 },
 "nbformat": 4,
 "nbformat_minor": 5
}
